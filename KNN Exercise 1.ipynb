{
 "cells": [
  {
   "cell_type": "markdown",
   "id": "971188a7",
   "metadata": {},
   "source": [
    "Step 1: Defining test data and the associated labels.\n",
    "\n",
    "This is some sample data that I found during my research, that can be interpreted as follows:\n",
    "[height in cm, body weight in kg, clothing size].\n",
    "\n",
    "I have already adjusted the labels in advance to: 0 = clothing size M, 1 = clothing size L"
   ]
  },
  {
   "cell_type": "code",
   "execution_count": 1,
   "id": "7c0c7437",
   "metadata": {},
   "outputs": [],
   "source": [
    "X = [[158,58],[158,59],[158,63],[160,59],[160,60],[163,60],[163,61],[160,64],[163,64],\n",
    "     [165,61],[165,62],[165,65],[168,62],[168,63],[168,66],[170,63],[170,64],[170,68]]\n",
    "\n",
    "y = [0, 0, 0, 0, 0, 0, 0, 1, 1, \n",
    "     1, 1, 1, 1, 1, 1, 1, 1, 1]"
   ]
  },
  {
   "cell_type": "markdown",
   "id": "f6e48c0f",
   "metadata": {},
   "source": [
    "Step 2: Defining the functions (e. g. euclidean distance, normalization, voting for a result)."
   ]
  },
  {
   "cell_type": "code",
   "execution_count": 2,
   "id": "a28ca58e",
   "metadata": {},
   "outputs": [],
   "source": [
    "def distance(x1, x2):\n",
    "    d = ((x1[0]-x2[0])**2+(x1[1]-x2[1])**2) ** (1 / 2)\n",
    "    return d\n",
    "\n",
    "\n",
    "def minmax(data):\n",
    "    minmax = list()\n",
    "    for index in range(len(data[0])):\n",
    "        values = [row[index] for row in data]\n",
    "        minimum = min(values)\n",
    "        maximum = max(values)\n",
    "        minmax.append([minimum, maximum])\n",
    "    return minmax\n",
    "\n",
    "\n",
    "def normalize_data(data, minmax):\n",
    "    for row in data:\n",
    "        for index in range(len(row)):\n",
    "            row[index] = (row[index] - minmax[index][0]) / (minmax[index][1] - minmax[index][0])\n",
    "\n",
    "\n",
    "def normalize_test(test, minmax):\n",
    "    for index in range(len(test)):\n",
    "        test[index] = (test[index] - minmax[index][0]) / (minmax[index][1] - minmax[index][0])\n",
    "\n",
    "    \n",
    "def get_neighbors(training_set, labels, test_instance, k, distance=distance):\n",
    "    distances = []\n",
    "    for index in range(len(training_set)):\n",
    "        dist = distance(test_instance, training_set[index])\n",
    "        distances.append((training_set[index], dist, labels[index]))\n",
    "    distances.sort(key=lambda x: x[1])\n",
    "    neighbors = distances[:k]\n",
    "    return neighbors\n",
    "\n",
    "\n",
    "def vote(neighbors):\n",
    "    output_values = [row[-1] for row in neighbors]\n",
    "    prediction = max(set(output_values), key=output_values.count)   \n",
    "    return prediction"
   ]
  },
  {
   "cell_type": "markdown",
   "id": "2ab1b0a1",
   "metadata": {},
   "source": [
    "Step 3: Defining some test data and testing the algorithm."
   ]
  },
  {
   "cell_type": "code",
   "execution_count": 3,
   "id": "c06e9bab",
   "metadata": {},
   "outputs": [
    {
     "data": {
      "text/plain": [
       "1"
      ]
     },
     "execution_count": 3,
     "metadata": {},
     "output_type": "execute_result"
    }
   ],
   "source": [
    "test = [168, 61]\n",
    "\n",
    "minmax = minmax(X)\n",
    "normalize_data(X, minmax)\n",
    "normalize_test(test, minmax)\n",
    "\n",
    "neighbors = get_neighbors(X, y, test, 3, distance=distance)\n",
    "vote(neighbors)"
   ]
  },
  {
   "cell_type": "markdown",
   "id": "25fe6040",
   "metadata": {},
   "source": [
    "Step 4: Comparison with KNN in sklearn."
   ]
  },
  {
   "cell_type": "code",
   "execution_count": 5,
   "id": "483e8b05",
   "metadata": {},
   "outputs": [
    {
     "data": {
      "text/plain": [
       "array([1])"
      ]
     },
     "execution_count": 5,
     "metadata": {},
     "output_type": "execute_result"
    }
   ],
   "source": [
    "from sklearn.neighbors import KNeighborsClassifier\n",
    "from sklearn.preprocessing import MinMaxScaler\n",
    "\n",
    "X_train = [[158,58],[158,59],[158,63],[160,59],[160,60],[163,60],[163,61],[160,64],[163,64],\n",
    "        [165,61],[165,62],[165,65],[168,62],[168,63],[168,66],[170,63],[170,64],[170,68]]\n",
    "y_train = [0, 0, 0, 0, 0, 0, 0, 1, 1, \n",
    "     1, 1, 1, 1, 1, 1, 1, 1, 1]\n",
    "X_test = [[168, 61]]\n",
    "\n",
    "min_max_scaler = MinMaxScaler()\n",
    "min_max_scaler.fit_transform(X_train)\n",
    "\n",
    "X_train = min_max_scaler.transform(X_train)\n",
    "X_test = min_max_scaler.transform(X_test)\n",
    "\n",
    "classifier = KNeighborsClassifier(n_neighbors=5)\n",
    "classifier.fit(X_train, y_train)\n",
    "\n",
    "y_pred = classifier.predict(X_test)\n",
    "y_pred"
   ]
  },
  {
   "cell_type": "markdown",
   "id": "05bdbcab",
   "metadata": {},
   "source": [
    "Step 5: Success, it works! :-)"
   ]
  }
 ],
 "metadata": {
  "kernelspec": {
   "display_name": "Python 3 (ipykernel)",
   "language": "python",
   "name": "python3"
  },
  "language_info": {
   "codemirror_mode": {
    "name": "ipython",
    "version": 3
   },
   "file_extension": ".py",
   "mimetype": "text/x-python",
   "name": "python",
   "nbconvert_exporter": "python",
   "pygments_lexer": "ipython3",
   "version": "3.9.7"
  }
 },
 "nbformat": 4,
 "nbformat_minor": 5
}
