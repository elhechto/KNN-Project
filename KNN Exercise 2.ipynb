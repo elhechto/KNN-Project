{
 "cells": [
  {
   "cell_type": "markdown",
   "id": "d9d43c04",
   "metadata": {},
   "source": [
    "Loading libraries and data, splitting the dataset into data and labels."
   ]
  },
  {
   "cell_type": "code",
   "execution_count": 1,
   "id": "a4e65b3a",
   "metadata": {},
   "outputs": [],
   "source": [
    "%matplotlib inline\n",
    "import numpy as np\n",
    "from sklearn import datasets\n",
    "from collections import Counter\n",
    "\n",
    "iris = datasets.load_iris()\n",
    "iris_data = iris.data\n",
    "iris_labels = iris.target"
   ]
  },
  {
   "cell_type": "markdown",
   "id": "fdce4314",
   "metadata": {},
   "source": [
    "Defining the functions: Euclidean distance, voting for a result (with and without probability)"
   ]
  },
  {
   "cell_type": "code",
   "execution_count": 2,
   "id": "63c0bf6c",
   "metadata": {},
   "outputs": [],
   "source": [
    "def distance(instance1, instance2):\n",
    "    instance1 = np.array(instance1) \n",
    "    instance2 = np.array(instance2)\n",
    "    return np.linalg.norm(instance1 - instance2)\n",
    "\n",
    "def get_neighbors(training_set, labels, test_instance, k, distance=distance):\n",
    "    distances = []\n",
    "    for index in range(len(training_set)):\n",
    "        dist = distance(test_instance, training_set[index])\n",
    "        distances.append((training_set[index], dist, labels[index]))\n",
    "    distances.sort(key=lambda x: x[1])\n",
    "    neighbors = distances[:k]\n",
    "    return neighbors\n",
    "\n",
    "def vote(neighbors):\n",
    "    class_counter = Counter()\n",
    "    for neighbor in neighbors:\n",
    "        class_counter[neighbor[2]] += 1\n",
    "    return class_counter.most_common(1)[0][0]\n",
    "\n",
    "def vote_prob(neighbors):\n",
    "    class_counter = Counter()\n",
    "    for neighbor in neighbors:\n",
    "        class_counter[neighbor[2]] += 1\n",
    "    labels, votes = zip(*class_counter.most_common())\n",
    "    winner = class_counter.most_common(1)[0][0]\n",
    "    votes4winner = class_counter.most_common(1)[0][1]\n",
    "    return winner, votes4winner/sum(votes)"
   ]
  },
  {
   "cell_type": "markdown",
   "id": "d18a2788",
   "metadata": {},
   "source": [
    "Vote a result with the test data [4.8,2.5,5.3,2.4]"
   ]
  },
  {
   "cell_type": "code",
   "execution_count": 3,
   "id": "e318a87a",
   "metadata": {},
   "outputs": [
    {
     "data": {
      "text/plain": [
       "2"
      ]
     },
     "execution_count": 3,
     "metadata": {},
     "output_type": "execute_result"
    }
   ],
   "source": [
    "test_data = [4.8,2.5,5.3,2.4]\n",
    "\n",
    "neighbors = get_neighbors(iris_data, iris_labels, test_data, 5, distance=distance)\n",
    "vote(neighbors)"
   ]
  },
  {
   "cell_type": "markdown",
   "id": "10efc804",
   "metadata": {},
   "source": [
    "Vote a result with the test data [4.8,2.5,5.3,2.4], but now with probability"
   ]
  },
  {
   "cell_type": "code",
   "execution_count": 4,
   "id": "26f6a602",
   "metadata": {},
   "outputs": [
    {
     "data": {
      "text/plain": [
       "(2, 1.0)"
      ]
     },
     "execution_count": 4,
     "metadata": {},
     "output_type": "execute_result"
    }
   ],
   "source": [
    "neighbors = get_neighbors(iris_data, iris_labels, test_data, 5, distance=distance)\n",
    "vote_prob(neighbors)"
   ]
  },
  {
   "cell_type": "markdown",
   "id": "4d9e4434",
   "metadata": {},
   "source": [
    "Alternative: Significantly shorter variant with greater use of the sklearn library (including normalization)"
   ]
  },
  {
   "cell_type": "code",
   "execution_count": 5,
   "id": "08b2b126",
   "metadata": {},
   "outputs": [
    {
     "data": {
      "text/plain": [
       "array([2])"
      ]
     },
     "execution_count": 5,
     "metadata": {},
     "output_type": "execute_result"
    }
   ],
   "source": [
    "from sklearn.neighbors import KNeighborsClassifier\n",
    "from sklearn.preprocessing import MinMaxScaler\n",
    "\n",
    "X_train = iris_data\n",
    "y_train = iris_labels\n",
    "X_test = [test_data]\n",
    "\n",
    "min_max_scaler = MinMaxScaler()\n",
    "min_max_scaler.fit_transform(X_train)\n",
    "\n",
    "X_train = min_max_scaler.transform(X_train)\n",
    "X_test = min_max_scaler.transform(X_test)\n",
    "\n",
    "classifier = KNeighborsClassifier(n_neighbors=5)\n",
    "classifier.fit(X_train, y_train)\n",
    "\n",
    "y_pred = classifier.predict(X_test)\n",
    "y_pred"
   ]
  }
 ],
 "metadata": {
  "kernelspec": {
   "display_name": "Python 3 (ipykernel)",
   "language": "python",
   "name": "python3"
  },
  "language_info": {
   "codemirror_mode": {
    "name": "ipython",
    "version": 3
   },
   "file_extension": ".py",
   "mimetype": "text/x-python",
   "name": "python",
   "nbconvert_exporter": "python",
   "pygments_lexer": "ipython3",
   "version": "3.9.7"
  }
 },
 "nbformat": 4,
 "nbformat_minor": 5
}
